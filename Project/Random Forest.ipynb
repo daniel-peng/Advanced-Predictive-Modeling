{
 "cells": [
  {
   "cell_type": "code",
   "execution_count": 45,
   "metadata": {
    "collapsed": false
   },
   "outputs": [],
   "source": [
    "import pandas as pd\n",
    "import numpy as np\n",
    "from sklearn.svm import SVC\n",
    "from sklearn.metrics import mean_squared_error\n",
    "from sklearn.linear_model import LinearRegression\n",
    "from sklearn.model_selection import train_test_split\n",
    "\n",
    "data = pd.read_csv(\"not_transformed.csv\")"
   ]
  },
  {
   "cell_type": "code",
   "execution_count": 3,
   "metadata": {
    "collapsed": false
   },
   "outputs": [],
   "source": [
    "# Dropping unnecessary columns\n",
    "data2 = data[:] # keeping a copy for later\n",
    "data.drop(['Unnamed: 0','display_id','campaign_id','uuid','document_id','platform','geo_location','day', 'hour', 'category_id','topic_id','entity_id','source_id','publisher_id'], axis=1, inplace=True)"
   ]
  },
  {
   "cell_type": "code",
   "execution_count": 5,
   "metadata": {
    "collapsed": false
   },
   "outputs": [
    {
     "name": "stdout",
     "output_type": "stream",
     "text": [
      "(37003, 43)\n",
      "(14668, 43)\n",
      "(37003,)\n",
      "(14668,)\n"
     ]
    }
   ],
   "source": [
    "# Converting to dummies\n",
    "data = pd.get_dummies(data)\n",
    "\n",
    "# Splitting into train and test\n",
    "\n",
    "# X = data.ix[:, data.columns != 'clicked']\n",
    "# y = data['clicked']\n",
    "# X_train, X_test, y_train, y_test = train_test_split(X, y, test_size=0.33, random_state=42)\n",
    "X = data[:37003]\n",
    "y = data[37003:]\n",
    "\n",
    "X_train = X.ix[:, X.columns != 'clicked']\n",
    "X_test = y.ix[:, y.columns != 'clicked']\n",
    "\n",
    "y_train = X['clicked']\n",
    "y_test = y['clicked']\n",
    "\n",
    "print X_train.shape\n",
    "print X_test.shape\n",
    "print y_train.shape\n",
    "print y_test.shape"
   ]
  },
  {
   "cell_type": "code",
   "execution_count": 8,
   "metadata": {
    "collapsed": true
   },
   "outputs": [],
   "source": [
    "#fit Randome Forest\n",
    "from sklearn.ensemble import RandomForestClassifier\n",
    "rfc = RandomForestClassifier(n_estimators=50, criterion='entropy')\n",
    "model = rfc.fit(X_train,y_train)"
   ]
  },
  {
   "cell_type": "code",
   "execution_count": 20,
   "metadata": {
    "collapsed": false
   },
   "outputs": [],
   "source": [
    "prediction = model.predict_proba(X_test)"
   ]
  },
  {
   "cell_type": "code",
   "execution_count": 27,
   "metadata": {
    "collapsed": false
   },
   "outputs": [],
   "source": [
    "click_prob = prediction[:,1]"
   ]
  },
  {
   "cell_type": "code",
   "execution_count": 96,
   "metadata": {
    "collapsed": false
   },
   "outputs": [
    {
     "name": "stdout",
     "output_type": "stream",
     "text": [
      "0.545879638984\n"
     ]
    }
   ],
   "source": [
    "#calculate MAP@12 score\n",
    "test_index_range = data2[37003:].groupby('display_id').count()['ad_id'].tolist()\n",
    "start = 0\n",
    "num = 0\n",
    "map12 = 0\n",
    "df_test = data2[37003:].reset_index()\n",
    "for p in test_index_range:\n",
    "    end = start+p\n",
    "    y_pred = click_prob.tolist()\n",
    "    temp_pred = y_pred[start:end]\n",
    "    temp = pd.DataFrame(df_test.ix[start:end-1][['ad_id','clicked']]).copy().reset_index().drop('index',axis=1)\n",
    "    df=pd.DataFrame(temp_pred,columns=['prob'])\n",
    "    temp = pd.concat([temp,df],axis=1)\n",
    "    temp2= temp.sort_values('prob',ascending=False).reset_index().drop('index',axis=1)\n",
    "    index = temp2.ix[temp2['clicked']==1].index[0]\n",
    "    map12 = map12+(1.0/(index+1))\n",
    "    start = end\n",
    "print map12/len(test_index_range)"
   ]
  }
 ],
 "metadata": {
  "anaconda-cloud": {},
  "kernelspec": {
   "display_name": "Python [conda root]",
   "language": "python",
   "name": "conda-root-py"
  },
  "language_info": {
   "codemirror_mode": {
    "name": "ipython",
    "version": 2
   },
   "file_extension": ".py",
   "mimetype": "text/x-python",
   "name": "python",
   "nbconvert_exporter": "python",
   "pygments_lexer": "ipython2",
   "version": "2.7.12"
  }
 },
 "nbformat": 4,
 "nbformat_minor": 0
}
