{
 "cells": [
  {
   "cell_type": "code",
   "execution_count": 19,
   "metadata": {
    "collapsed": false
   },
   "outputs": [
    {
     "name": "stderr",
     "output_type": "stream",
     "text": [
      "/Users/pranjor/anaconda2/lib/python2.7/site-packages/IPython/core/interactiveshell.py:2717: DtypeWarning: Columns (4) have mixed types. Specify dtype option on import or set low_memory=False.\n",
      "  interactivity=interactivity, compiler=compiler, result=result)\n"
     ]
    }
   ],
   "source": [
    "import pandas as pd\n",
    "clicks_train = pd.read_csv('data/clicks_train.csv')\n",
    "documents_categories = pd.read_csv('data/documents_categories.csv')\n",
    "documents_meta = pd.read_csv('data/documents_meta.csv')\n",
    "documents_entities = pd.read_csv('data/documents_entities.csv')\n",
    "#page_view = pd.read_csv('data/page_views_sample.csv')\n",
    "documents_topic = pd.read_csv('data/documents_topics.csv')\n",
    "events = pd.read_csv('data/events.csv')"
   ]
  },
  {
   "cell_type": "code",
   "execution_count": 7,
   "metadata": {
    "collapsed": false
   },
   "outputs": [],
   "source": [
    "pg_sample = page_view.sample(n=500000)"
   ]
  },
  {
   "cell_type": "code",
   "execution_count": 8,
   "metadata": {
    "collapsed": false
   },
   "outputs": [],
   "source": [
    "merge_df = pg_sample.merge(documents_categories, how='left', on='document_id')\n",
    "merge_df = merge_df.merge(documents_entities, how='left', on='document_id', suffixes=('_cat', '_ent'))\n",
    "merge_df = merge_df.merge(documents_meta,  how='left', on='document_id')\n",
    "\n",
    "documents_topic = documents_topic.rename(columns = {'confidence_level':'confidence_level_top'})\n",
    "merge_df = merge_df.merge(documents_topic,how='left', on='document_id')"
   ]
  },
  {
   "cell_type": "code",
   "execution_count": 4,
   "metadata": {
    "collapsed": false
   },
   "outputs": [],
   "source": [
    "#merge_df = merge_df.merge(events[['display_id','document_id']], how='left', on='document_id')"
   ]
  },
  {
   "cell_type": "code",
   "execution_count": 11,
   "metadata": {
    "collapsed": false
   },
   "outputs": [
    {
     "data": {
      "text/plain": [
       "(23120126, 2)"
      ]
     },
     "execution_count": 11,
     "metadata": {},
     "output_type": "execute_result"
    }
   ],
   "source": [
    "events[['display_id','document_id']].shape"
   ]
  },
  {
   "cell_type": "code",
   "execution_count": 2,
   "metadata": {
    "collapsed": false
   },
   "outputs": [
    {
     "data": {
      "text/html": [
       "<div>\n",
       "<table border=\"1\" class=\"dataframe\">\n",
       "  <thead>\n",
       "    <tr style=\"text-align: right;\">\n",
       "      <th></th>\n",
       "      <th>uuid</th>\n",
       "      <th>document_id</th>\n",
       "      <th>timestamp</th>\n",
       "      <th>platform</th>\n",
       "      <th>geo_location</th>\n",
       "      <th>traffic_source</th>\n",
       "    </tr>\n",
       "  </thead>\n",
       "  <tbody>\n",
       "    <tr>\n",
       "      <th>0</th>\n",
       "      <td>1fd5f051fba643</td>\n",
       "      <td>120</td>\n",
       "      <td>31905835</td>\n",
       "      <td>1</td>\n",
       "      <td>RS</td>\n",
       "      <td>2</td>\n",
       "    </tr>\n",
       "    <tr>\n",
       "      <th>1</th>\n",
       "      <td>8557aa9004be3b</td>\n",
       "      <td>120</td>\n",
       "      <td>32053104</td>\n",
       "      <td>1</td>\n",
       "      <td>VN&gt;44</td>\n",
       "      <td>2</td>\n",
       "    </tr>\n",
       "    <tr>\n",
       "      <th>2</th>\n",
       "      <td>c351b277a358f0</td>\n",
       "      <td>120</td>\n",
       "      <td>54013023</td>\n",
       "      <td>1</td>\n",
       "      <td>KR&gt;12</td>\n",
       "      <td>1</td>\n",
       "    </tr>\n",
       "    <tr>\n",
       "      <th>3</th>\n",
       "      <td>8205775c5387f9</td>\n",
       "      <td>120</td>\n",
       "      <td>44196592</td>\n",
       "      <td>1</td>\n",
       "      <td>IN&gt;16</td>\n",
       "      <td>2</td>\n",
       "    </tr>\n",
       "    <tr>\n",
       "      <th>4</th>\n",
       "      <td>9cb0ccd8458371</td>\n",
       "      <td>120</td>\n",
       "      <td>65817371</td>\n",
       "      <td>1</td>\n",
       "      <td>US&gt;CA&gt;807</td>\n",
       "      <td>2</td>\n",
       "    </tr>\n",
       "  </tbody>\n",
       "</table>\n",
       "</div>"
      ],
      "text/plain": [
       "             uuid  document_id  timestamp  platform geo_location  \\\n",
       "0  1fd5f051fba643          120   31905835         1           RS   \n",
       "1  8557aa9004be3b          120   32053104         1        VN>44   \n",
       "2  c351b277a358f0          120   54013023         1        KR>12   \n",
       "3  8205775c5387f9          120   44196592         1        IN>16   \n",
       "4  9cb0ccd8458371          120   65817371         1    US>CA>807   \n",
       "\n",
       "   traffic_source  \n",
       "0               2  \n",
       "1               2  \n",
       "2               1  \n",
       "3               2  \n",
       "4               2  "
      ]
     },
     "execution_count": 2,
     "metadata": {},
     "output_type": "execute_result"
    }
   ],
   "source": [
    "import pandas as pd\n",
    "page_view = pd.read_csv('data/page_views_sample.csv')\n",
    "page_view.head()"
   ]
  },
  {
   "cell_type": "code",
   "execution_count": 20,
   "metadata": {
    "collapsed": false
   },
   "outputs": [],
   "source": [
    "import dask.dataframe as dd\n",
    "\n",
    "# Read in the csv files.\n",
    "\n",
    "dt = events.dtypes.to_dict()\n",
    "df1 = dd.read_csv('data/clicks_train.csv')\n",
    "df2 = dd.read_csv('data/events.csv', dtype={'uuid': object, 'platform': object, 'geo_location': object})\n",
    "df3 = dd.read_csv('data/promoted_content.csv')\n",
    "\n",
    "df4 = dd.read_csv('data/documents_categories.csv')\n",
    "df4 = df4.groupby('document_id').max()\n",
    "df4 = df4.reset_index()\n",
    "\n",
    "df5 = dd.read_csv('data/documents_entities.csv', dtype={'entity_id': object})\n",
    "df5 = df5.groupby('document_id').max()\n",
    "df5 = df5.reset_index()\n",
    "\n",
    "df6 = dd.read_csv('data/documents_meta.csv', dtype={'publish_time': object})\n",
    "\n",
    "df7 = dd.read_csv('data/documents_topics.csv')\n",
    "df7 = df7.groupby('document_id').max()\n",
    "df7 = df7.reset_index()"
   ]
  },
  {
   "cell_type": "code",
   "execution_count": 38,
   "metadata": {
    "collapsed": false
   },
   "outputs": [],
   "source": [
    "import numpy as np\n",
    "display_id = clicks_train.display_id.unique()\n",
    "random_id = np.random.choice(display_id, 10000) "
   ]
  },
  {
   "cell_type": "code",
   "execution_count": 39,
   "metadata": {
    "collapsed": true
   },
   "outputs": [],
   "source": [
    "new_sample = df1[df1.display_id.isin(random_id)]"
   ]
  },
  {
   "cell_type": "code",
   "execution_count": 4,
   "metadata": {
    "collapsed": false
   },
   "outputs": [],
   "source": [
    "random_sample = clicks_train[clicks_train.display_id.isin(random_id)]"
   ]
  },
  {
   "cell_type": "code",
   "execution_count": 40,
   "metadata": {
    "collapsed": false
   },
   "outputs": [],
   "source": [
    "df = dd.merge(new_sample, df2, how='left', on=['display_id'])\n",
    "df = dd.merge(df, df3, how='left', on=['ad_id'], suffixes=('_event', '_prom'))\n",
    "df = dd.merge(df, df4, how='left', left_on= 'document_id_event', right_on='document_id', left_index=True)\n",
    "# df = dd.merge(df, df5, how='left', left_on= 'document_id_event', right_on='document_id', left_index=True)\n",
    "# df = dd.merge(df, df6, how='left', left_on= 'document_id_event', right_on='document_id', left_index=True)\n",
    "df = dd.merge(df, df7, how='left', on=['document_id'])"
   ]
  },
  {
   "cell_type": "code",
   "execution_count": 28,
   "metadata": {
    "collapsed": false
   },
   "outputs": [
    {
     "data": {
      "text/html": [
       "<div>\n",
       "<table border=\"1\" class=\"dataframe\">\n",
       "  <thead>\n",
       "    <tr style=\"text-align: right;\">\n",
       "      <th></th>\n",
       "      <th>display_id</th>\n",
       "      <th>ad_id</th>\n",
       "      <th>clicked</th>\n",
       "      <th>uuid</th>\n",
       "      <th>document_id_event</th>\n",
       "      <th>timestamp</th>\n",
       "      <th>platform</th>\n",
       "      <th>geo_location</th>\n",
       "      <th>document_id_prom</th>\n",
       "      <th>campaign_id</th>\n",
       "      <th>advertiser_id</th>\n",
       "      <th>document_id</th>\n",
       "      <th>category_id</th>\n",
       "      <th>confidence_level_x</th>\n",
       "      <th>topic_id</th>\n",
       "      <th>confidence_level_y</th>\n",
       "    </tr>\n",
       "  </thead>\n",
       "  <tbody>\n",
       "    <tr>\n",
       "      <th>0</th>\n",
       "      <td>8562432</td>\n",
       "      <td>51384.0</td>\n",
       "      <td>0.0</td>\n",
       "      <td>93e3762a8e0312</td>\n",
       "      <td>2116651.0</td>\n",
       "      <td>579816437.0</td>\n",
       "      <td>1</td>\n",
       "      <td>US&gt;MI&gt;551</td>\n",
       "      <td>969326.0</td>\n",
       "      <td>6901.0</td>\n",
       "      <td>1438.0</td>\n",
       "      <td>2116651.0</td>\n",
       "      <td>1513.0</td>\n",
       "      <td>0.750735</td>\n",
       "      <td>258.0</td>\n",
       "      <td>0.210745</td>\n",
       "    </tr>\n",
       "    <tr>\n",
       "      <th>1</th>\n",
       "      <td>8562432</td>\n",
       "      <td>154575.0</td>\n",
       "      <td>1.0</td>\n",
       "      <td>93e3762a8e0312</td>\n",
       "      <td>2116651.0</td>\n",
       "      <td>579816437.0</td>\n",
       "      <td>1</td>\n",
       "      <td>US&gt;MI&gt;551</td>\n",
       "      <td>1381560.0</td>\n",
       "      <td>19670.0</td>\n",
       "      <td>1378.0</td>\n",
       "      <td>2116651.0</td>\n",
       "      <td>1513.0</td>\n",
       "      <td>0.750735</td>\n",
       "      <td>258.0</td>\n",
       "      <td>0.210745</td>\n",
       "    </tr>\n",
       "    <tr>\n",
       "      <th>2</th>\n",
       "      <td>8562432</td>\n",
       "      <td>160674.0</td>\n",
       "      <td>0.0</td>\n",
       "      <td>93e3762a8e0312</td>\n",
       "      <td>2116651.0</td>\n",
       "      <td>579816437.0</td>\n",
       "      <td>1</td>\n",
       "      <td>US&gt;MI&gt;551</td>\n",
       "      <td>1218152.0</td>\n",
       "      <td>19027.0</td>\n",
       "      <td>2926.0</td>\n",
       "      <td>2116651.0</td>\n",
       "      <td>1513.0</td>\n",
       "      <td>0.750735</td>\n",
       "      <td>258.0</td>\n",
       "      <td>0.210745</td>\n",
       "    </tr>\n",
       "    <tr>\n",
       "      <th>3</th>\n",
       "      <td>8562432</td>\n",
       "      <td>179047.0</td>\n",
       "      <td>0.0</td>\n",
       "      <td>93e3762a8e0312</td>\n",
       "      <td>2116651.0</td>\n",
       "      <td>579816437.0</td>\n",
       "      <td>1</td>\n",
       "      <td>US&gt;MI&gt;551</td>\n",
       "      <td>1351158.0</td>\n",
       "      <td>21726.0</td>\n",
       "      <td>3190.0</td>\n",
       "      <td>2116651.0</td>\n",
       "      <td>1513.0</td>\n",
       "      <td>0.750735</td>\n",
       "      <td>258.0</td>\n",
       "      <td>0.210745</td>\n",
       "    </tr>\n",
       "    <tr>\n",
       "      <th>4</th>\n",
       "      <td>8581536</td>\n",
       "      <td>9275.0</td>\n",
       "      <td>0.0</td>\n",
       "      <td>bdbbd7aed302a5</td>\n",
       "      <td>1765644.0</td>\n",
       "      <td>580726924.0</td>\n",
       "      <td>2</td>\n",
       "      <td>US&gt;OK&gt;671</td>\n",
       "      <td>594144.0</td>\n",
       "      <td>77.0</td>\n",
       "      <td>53.0</td>\n",
       "      <td>1765644.0</td>\n",
       "      <td>1702.0</td>\n",
       "      <td>0.920000</td>\n",
       "      <td>102.0</td>\n",
       "      <td>0.073407</td>\n",
       "    </tr>\n",
       "  </tbody>\n",
       "</table>\n",
       "</div>"
      ],
      "text/plain": [
       "   display_id     ad_id  clicked            uuid  document_id_event  \\\n",
       "0     8562432   51384.0      0.0  93e3762a8e0312          2116651.0   \n",
       "1     8562432  154575.0      1.0  93e3762a8e0312          2116651.0   \n",
       "2     8562432  160674.0      0.0  93e3762a8e0312          2116651.0   \n",
       "3     8562432  179047.0      0.0  93e3762a8e0312          2116651.0   \n",
       "4     8581536    9275.0      0.0  bdbbd7aed302a5          1765644.0   \n",
       "\n",
       "     timestamp platform geo_location  document_id_prom  campaign_id  \\\n",
       "0  579816437.0        1    US>MI>551          969326.0       6901.0   \n",
       "1  579816437.0        1    US>MI>551         1381560.0      19670.0   \n",
       "2  579816437.0        1    US>MI>551         1218152.0      19027.0   \n",
       "3  579816437.0        1    US>MI>551         1351158.0      21726.0   \n",
       "4  580726924.0        2    US>OK>671          594144.0         77.0   \n",
       "\n",
       "   advertiser_id  document_id  category_id  confidence_level_x  topic_id  \\\n",
       "0         1438.0    2116651.0       1513.0            0.750735     258.0   \n",
       "1         1378.0    2116651.0       1513.0            0.750735     258.0   \n",
       "2         2926.0    2116651.0       1513.0            0.750735     258.0   \n",
       "3         3190.0    2116651.0       1513.0            0.750735     258.0   \n",
       "4           53.0    1765644.0       1702.0            0.920000     102.0   \n",
       "\n",
       "   confidence_level_y  \n",
       "0            0.210745  \n",
       "1            0.210745  \n",
       "2            0.210745  \n",
       "3            0.210745  \n",
       "4            0.073407  "
      ]
     },
     "execution_count": 28,
     "metadata": {},
     "output_type": "execute_result"
    }
   ],
   "source": [
    "df.head()"
   ]
  },
  {
   "cell_type": "code",
   "execution_count": 152,
   "metadata": {
    "collapsed": false
   },
   "outputs": [],
   "source": [
    "a = documents_categories.groupby('document_id')[['document_id', '']].max()\n",
    "a = a.reset_index()"
   ]
  },
  {
   "cell_type": "code",
   "execution_count": 41,
   "metadata": {
    "collapsed": false
   },
   "outputs": [],
   "source": [
    "df.to_csv('merge-*.csv', index=False)"
   ]
  },
  {
   "cell_type": "code",
   "execution_count": 42,
   "metadata": {
    "collapsed": false
   },
   "outputs": [],
   "source": [
    "import glob\n",
    "\n",
    "allFiles = glob.glob(\"merge-*.csv\")\n",
    "frame = pd.DataFrame()\n",
    "list_ = []\n",
    "for file_ in allFiles:\n",
    "    df = pd.read_csv(file_,)\n",
    "    list_.append(df)\n",
    "frame = pd.concat(list_)"
   ]
  },
  {
   "cell_type": "code",
   "execution_count": 44,
   "metadata": {
    "collapsed": false
   },
   "outputs": [],
   "source": [
    "frame.to_csv('merged.csv')"
   ]
  },
  {
   "cell_type": "code",
   "execution_count": 43,
   "metadata": {
    "collapsed": false
   },
   "outputs": [
    {
     "data": {
      "text/plain": [
       "(51658, 16)"
      ]
     },
     "execution_count": 43,
     "metadata": {},
     "output_type": "execute_result"
    }
   ],
   "source": [
    "frame.shape"
   ]
  },
  {
   "cell_type": "code",
   "execution_count": 45,
   "metadata": {
    "collapsed": false
   },
   "outputs": [
    {
     "data": {
      "text/html": [
       "<div>\n",
       "<table border=\"1\" class=\"dataframe\">\n",
       "  <thead>\n",
       "    <tr style=\"text-align: right;\">\n",
       "      <th></th>\n",
       "      <th>document_id</th>\n",
       "      <th>source_id</th>\n",
       "      <th>publisher_id</th>\n",
       "      <th>publish_time</th>\n",
       "    </tr>\n",
       "  </thead>\n",
       "  <tbody>\n",
       "    <tr>\n",
       "      <th>0</th>\n",
       "      <td>1595802</td>\n",
       "      <td>1.0</td>\n",
       "      <td>603.0</td>\n",
       "      <td>2016-06-05 00:00:00</td>\n",
       "    </tr>\n",
       "    <tr>\n",
       "      <th>1</th>\n",
       "      <td>1524246</td>\n",
       "      <td>1.0</td>\n",
       "      <td>603.0</td>\n",
       "      <td>2016-05-26 11:00:00</td>\n",
       "    </tr>\n",
       "    <tr>\n",
       "      <th>2</th>\n",
       "      <td>1617787</td>\n",
       "      <td>1.0</td>\n",
       "      <td>603.0</td>\n",
       "      <td>2016-05-27 00:00:00</td>\n",
       "    </tr>\n",
       "    <tr>\n",
       "      <th>3</th>\n",
       "      <td>1615583</td>\n",
       "      <td>1.0</td>\n",
       "      <td>603.0</td>\n",
       "      <td>2016-06-07 00:00:00</td>\n",
       "    </tr>\n",
       "    <tr>\n",
       "      <th>4</th>\n",
       "      <td>1615460</td>\n",
       "      <td>1.0</td>\n",
       "      <td>603.0</td>\n",
       "      <td>2016-06-20 00:00:00</td>\n",
       "    </tr>\n",
       "  </tbody>\n",
       "</table>\n",
       "</div>"
      ],
      "text/plain": [
       "   document_id  source_id  publisher_id         publish_time\n",
       "0      1595802        1.0         603.0  2016-06-05 00:00:00\n",
       "1      1524246        1.0         603.0  2016-05-26 11:00:00\n",
       "2      1617787        1.0         603.0  2016-05-27 00:00:00\n",
       "3      1615583        1.0         603.0  2016-06-07 00:00:00\n",
       "4      1615460        1.0         603.0  2016-06-20 00:00:00"
      ]
     },
     "execution_count": 45,
     "metadata": {},
     "output_type": "execute_result"
    }
   ],
   "source": [
    "ev_entity = pd.merge(event[['document_id']],entity,on='document_id',how='left')\n",
    "entity_list = ev_entity.groupby('entity_id').count().sort_values(by='document_id',ascending=False).iloc[:10].index.values.tolist()\n",
    "\n",
    "def entity_function(e):\n",
    "   if e in entity_list:\n",
    "       return e\n",
    "   else:\n",
    "       return 'MinorityEntity'\n",
    "ev_entity = ev_entity.drop_duplicates('document_id')\n",
    "ev_entity['entity_id'] = ev_entity['entity_id'].apply(entity_function)\n",
    "ev_entity.shape"
   ]
  }
 ],
 "metadata": {
  "anaconda-cloud": {},
  "kernelspec": {
   "display_name": "Python [conda root]",
   "language": "python",
   "name": "conda-root-py"
  },
  "language_info": {
   "codemirror_mode": {
    "name": "ipython",
    "version": 2
   },
   "file_extension": ".py",
   "mimetype": "text/x-python",
   "name": "python",
   "nbconvert_exporter": "python",
   "pygments_lexer": "ipython2",
   "version": "2.7.12"
  }
 },
 "nbformat": 4,
 "nbformat_minor": 0
}
