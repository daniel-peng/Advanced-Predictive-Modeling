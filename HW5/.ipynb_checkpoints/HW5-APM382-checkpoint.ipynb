{
 "cells": [
  {
   "cell_type": "markdown",
   "metadata": {},
   "source": [
    "# <p style=\"text-align: center;\">MIS 382N: Advanced Predictive Modeling</p>\n",
    "# <p style=\"text-align: center;\">Assignment 5</p>\n",
    "## <p style=\"text-align: center;\">Total points: 50 </p>\n",
    "## <p style=\"text-align: center;\">Due: Mon, November 28</p>\n",
    "\n",
    "\n",
    "\n",
    "Your homework should be written in a **Jupyter notebook**. Please submit **only one** ipynb file from each group, and include the names of all the group members. Also, please make sure your code runs and the graphics (and anything else) are displayed in your notebook before submitting."
   ]
  },
  {
   "cell_type": "markdown",
   "metadata": {},
   "source": [
    "# Problem 1 - Random Forest vs Boosting - Regression (15pts)"
   ]
  },
  {
   "cell_type": "markdown",
   "metadata": {},
   "source": [
    "In this question, we will compare performance of different ensemble methods for regression problems: [Random Forest](http://scikit-learn.org/stable/modules/generated/sklearn.ensemble.RandomForestRegressor.html), [Gradient Boosting Regressor](http://scikit-learn.org/stable/modules/generated/sklearn.ensemble.GradientBoostingRegressor.html) (GBR), and [AdaBoost](http://scikit-learn.org/stable/modules/generated/sklearn.ensemble.AdaBoostRegressor.html#sklearn.ensemble.AdaBoostRegressor). Board game data set from DataQuest will be used (you can download data from Canvas: 'games.csv').\n",
    "\n",
    "1. (1) Load the data, (2) remove duplicate rows, (3) remove features of type string (object in pandas), and (4) replace missing values by mean of each column. Then, partition data into features (X) and the target label (y) for regression task. We want to predict the *average_rating*. Use [train_test_split](http://scikit-learn.org/stable/modules/generated/sklearn.model_selection.train_test_split.html) to split data into training and testing: test_size=0.33, random_state=42. (1pt)\n",
    "\n",
    "2. Use a [Random Forest](http://scikit-learn.org/stable/modules/generated/sklearn.ensemble.RandomForestRegressor.html) to predict average_rating. Find the best parameters (including *n_estimators*) using [GridSearchCV](http://scikit-learn.org/stable/modules/generated/sklearn.model_selection.GridSearchCV.html). Report the accuracy of your model in terms of RMSE. (4pts)\n",
    "\n",
    "3. Use [Gradient Boosting Regressor](http://scikit-learn.org/stable/modules/generated/sklearn.ensemble.GradientBoostingRegressor.html) (GBR), and [AdaBoost](http://scikit-learn.org/stable/modules/generated/sklearn.ensemble.AdaBoostRegressor.html#sklearn.ensemble.AdaBoostRegressor) for predicting the targets. Again, find the best parameters (including *n_estimators,* and* learning_rate*), and report corresponding RMSE for each algorithm. (8pts)\n",
    "\n",
    "4. Which model did you expect to be more accurate in predicting the targets? Why? Did your observation match this expectation? (2pts)"
   ]
  },
  {
   "cell_type": "code",
   "execution_count": 2,
   "metadata": {
    "collapsed": false
   },
   "outputs": [],
   "source": [
    "import pandas as pd\n",
    "import numpy as np\n",
    "from sklearn.model_selection import (train_test_split, GridSearchCV)\n",
    "from sklearn.metrics import mean_squared_error\n",
    "from sklearn.ensemble import (RandomForestRegressor,GradientBoostingRegressor,AdaBoostRegressor)"
   ]
  },
  {
   "cell_type": "markdown",
   "metadata": {},
   "source": [
    "#### 1 "
   ]
  },
  {
   "cell_type": "code",
   "execution_count": 5,
   "metadata": {
    "collapsed": false
   },
   "outputs": [],
   "source": [
    "#read data\n",
    "game = pd.read_csv('games.csv')\n",
    "\n",
    "#remove duplicate\n",
    "game = game.drop_duplicates()\n",
    "\n",
    "#drop string types\n",
    "game = game.drop('name', 1)\n",
    "game = game.drop('type', 1)\n",
    "game = game.drop('id', 1)\n",
    "\n",
    "#replace missing value\n",
    "game = game.fillna(game.mean())\n",
    "\n",
    "#spliting\n",
    "y = game.average_rating\n",
    "X = game.drop('average_rating', 1)\n",
    "X_train, X_test, y_train, y_test = train_test_split(X, y, test_size=0.33, random_state=42)"
   ]
  },
  {
   "cell_type": "markdown",
   "metadata": {},
   "source": [
    "#### 2 "
   ]
  },
  {
   "cell_type": "code",
   "execution_count": 46,
   "metadata": {
    "collapsed": false
   },
   "outputs": [
    {
     "name": "stdout",
     "output_type": "stream",
     "text": [
      "{'n_estimators': 30}\n",
      "RMSE:  1.03721037965\n"
     ]
    }
   ],
   "source": [
    "from sklearn.metrics import fbeta_score, make_scorer\n",
    "\n",
    "rf = RandomForestRegressor(n_estimators=10)\n",
    "parameters = {'n_estimators':[5,10,20,30]}\n",
    "\n",
    "scorer = make_scorer(mean_squared_error, greater_is_better=False)\n",
    "clf_rf = GridSearchCV(rf, parameters, cv = 5, scoring=scorer)\n",
    "clf_rf.fit(X_train,y_train)\n",
    "\n",
    "y_best_rf = clf_rf.predict(X_test)\n",
    "RMSE_rf = np.sqrt(mean_squared_error(y_test, y_best_rf))\n",
    "\n",
    "print clf_rf.best_params_\n",
    "print 'RMSE: ', RMSE_rf"
   ]
  },
  {
   "cell_type": "markdown",
   "metadata": {},
   "source": [
    "#### 3 "
   ]
  },
  {
   "cell_type": "code",
   "execution_count": 84,
   "metadata": {
    "collapsed": false
   },
   "outputs": [
    {
     "name": "stdout",
     "output_type": "stream",
     "text": [
      "{'n_estimators': 10, 'learning_rate': 1}\n",
      "RMSE:  0.0362857505715\n"
     ]
    }
   ],
   "source": [
    "#GBR\n",
    "gbr = GradientBoostingRegressor(n_estimators=100, learning_rate=0.1,max_depth=1, random_state=0, loss='ls')\n",
    "param_grid = {'n_estimators': [1, 10, 100], 'learning_rate': [0.001, 0.01, 0.1, 1]}\n",
    "  \n",
    "\n",
    "scorer = make_scorer(mean_squared_error, greater_is_better=False)\n",
    "clf_gbr = GridSearchCV(gbr, param_grid, cv = 5, scoring=scorer)\n",
    "clf_gbr.fit(X_train,y_train)\n",
    "\n",
    "y_best_gbr = clf_gbr.predict(X_test)\n",
    "RMSE_gbr = np.sqrt(mean_squared_error(y_test, y_best_gbr))\n",
    "\n",
    "print clf_gbr.best_params_\n",
    "print 'RMSE: ', RMSE_gbr"
   ]
  },
  {
   "cell_type": "code",
   "execution_count": 82,
   "metadata": {
    "collapsed": false
   },
   "outputs": [
    {
     "name": "stdout",
     "output_type": "stream",
     "text": [
      "{'n_estimators': 50, 'learning_rate': 0.01}\n",
      "RMSE:  0.044440786917\n"
     ]
    }
   ],
   "source": [
    "#AdaBoost\n",
    "ada = AdaBoostRegressor(n_estimators=100, learning_rate=0.1)\n",
    "param_grid = {'n_estimators': [10, 50, 100, 1000], 'learning_rate': [0.01, 0.1, 1, 10, 10, 100]}\n",
    "  \n",
    "\n",
    "scorer = make_scorer(mean_squared_error, greater_is_better=False)\n",
    "clf_ada = GridSearchCV(ada, param_grid, cv = 5, scoring=scorer)\n",
    "clf_ada.fit(X_train,y_train)\n",
    "\n",
    "y_best_ada = clf_ada.predict(X_test)\n",
    "RMSE_ada = np.sqrt(mean_squared_error(y_test, y_best_ada))\n",
    "\n",
    "print clf_ada.best_params_\n",
    "print 'RMSE: ', RMSE_ada"
   ]
  },
  {
   "cell_type": "markdown",
   "metadata": {},
   "source": [
    "#### 4 "
   ]
  },
  {
   "cell_type": "markdown",
   "metadata": {},
   "source": [
    "In this case, boosting tree should perform better than Random Forest because I can tune the learning rate and achieve better accuracy. I also suspected that Adaboost wouldn't perform as well as GBR becasue Adaboost puts high weight on misclassifications, which makes it even more sensitive to outliers. The final results confirmed my hypothesis."
   ]
  },
  {
   "cell_type": "markdown",
   "metadata": {},
   "source": [
    "# Problem 2 - Random Forest vs Boosting - Classification (15 pts)\n",
    "In this question, we will compare performance of different ensemble methods for classification problems: [Random Forest](http://scikit-learn.org/stable/modules/generated/sklearn.ensemble.RandomForestClassifier.html), [Gradient Boosting Decision Tree](http://scikit-learn.org/stable/modules/generated/sklearn.ensemble.GradientBoostingClassifier.html) (GBDT), and [AdaBoost](http://scikit-learn.org/stable/modules/generated/sklearn.ensemble.AdaBoostClassifier.html#sklearn.ensemble.AdaBoostClassifier). [Spam Classification Data](https://archive.ics.uci.edu/ml/datasets/Spambase) of UCI will be used (you can download data from Canvas: 'spam_uci.csv'). Don't worry about column names. The last column represents target label, 1 if spam and zero otherwise.\n",
    "\n",
    "1. Load the data and partition it into features (X) and the target label (y) for classification task. Then, use [train_test_split](http://scikit-learn.org/stable/modules/generated/sklearn.model_selection.train_test_split.html) to split data into training and testing: test_size=0.33, random_state=42. (1pt)\n",
    "\n",
    "2. Use a [Random Forest](http://scikit-learn.org/stable/modules/generated/sklearn.ensemble.RandomForestClassifier.html) to classify whether an email is spam. Find the best parameters (including *n_estimators* and *criterion*) using [GridSearchCV](http://scikit-learn.org/stable/modules/generated/sklearn.model_selection.GridSearchCV.html). Report your testing accuracy ([accuracy_score](http://scikit-learn.org/stable/modules/generated/sklearn.metrics.accuracy_score.html)) and [roc_auc_score](http://scikit-learn.org/stable/modules/generated/sklearn.metrics.roc_auc_score.html#sklearn.metrics.roc_auc_score). You will need [predict_proba](http://scikit-learn.org/stable/modules/generated/sklearn.ensemble.RandomForestClassifier.html#sklearn.ensemble.RandomForestClassifier.predict_proba) for roc_auc_score. (4pts)\n",
    "\n",
    "3. Use [Gradient Boosting Decision Tree](http://scikit-learn.org/stable/modules/generated/sklearn.ensemble.GradientBoostingClassifier.html) (GBDT), and [AdaBoost](http://scikit-learn.org/stable/modules/generated/sklearn.ensemble.AdaBoostClassifier.html#sklearn.ensemble.AdaBoostClassifier) for the spam classification problem. Again, find the best parameters (including *n_estimators, learning_rate,* and *max_depth (GBDT only)*), and report corresponding accuracy_score and roc_auc_score on the test data for each algorithm. (8pts)\n",
    "\n",
    "4. Point out one advantage and one disadvantage of Random Forest compared to GBDT (2pts)"
   ]
  },
  {
   "cell_type": "code",
   "execution_count": 59,
   "metadata": {
    "collapsed": false
   },
   "outputs": [],
   "source": [
    "import matplotlib.pyplot as plt\n",
    "import pandas as pd\n",
    "import numpy as np\n",
    "from sklearn.model_selection import (train_test_split,GridSearchCV)\n",
    "from sklearn.metrics import (accuracy_score,roc_auc_score)\n",
    "from sklearn.ensemble import (RandomForestClassifier,GradientBoostingClassifier,AdaBoostClassifier)"
   ]
  },
  {
   "cell_type": "markdown",
   "metadata": {},
   "source": [
    "#### 1 "
   ]
  },
  {
   "cell_type": "code",
   "execution_count": 123,
   "metadata": {
    "collapsed": false
   },
   "outputs": [],
   "source": [
    "#read data\n",
    "spam = pd.read_csv('spam_uci.csv')\n",
    "\n",
    "#spliting\n",
    "y = spam['57']\n",
    "X = spam.drop('57', 1)\n",
    "X = X.drop('Unnamed: 0', 1)\n",
    "X_train, X_test, y_train, y_test = train_test_split(X, y, test_size=0.33, random_state=42)"
   ]
  },
  {
   "cell_type": "markdown",
   "metadata": {},
   "source": [
    "#### 2 "
   ]
  },
  {
   "cell_type": "code",
   "execution_count": 125,
   "metadata": {
    "collapsed": false
   },
   "outputs": [
    {
     "name": "stdout",
     "output_type": "stream",
     "text": [
      "{'n_estimators': 30}\n",
      "roc score: 0.988959378644\n",
      "accuracy score:  0.957867017775\n"
     ]
    }
   ],
   "source": [
    "rf = RandomForestClassifier(n_estimators=10)\n",
    "parameters = {'n_estimators':[5,10,20,25,30]}\n",
    "\n",
    "scorer = make_scorer(accuracy_score, greater_is_better=True)\n",
    "clf_rf = GridSearchCV(rf, parameters, cv = 5, scoring=scorer)\n",
    "clf_rf.fit(X_train,y_train)\n",
    "\n",
    "y_best_rf = clf_rf.predict(X_test)\n",
    "rf_prob = np.array([item[1] for item in clf_rf.predict_proba(X_test)])\n",
    "\n",
    "print clf_rf.best_params_\n",
    "print 'roc score:', roc_auc_score(y_test, rf_prob)\n",
    "print 'accuracy score: ', accuracy_score(y_test, y_best_rf)"
   ]
  },
  {
   "cell_type": "markdown",
   "metadata": {},
   "source": [
    "#### 3 "
   ]
  },
  {
   "cell_type": "code",
   "execution_count": 130,
   "metadata": {
    "collapsed": false
   },
   "outputs": [
    {
     "name": "stdout",
     "output_type": "stream",
     "text": [
      "{'n_estimators': 1000, 'learning_rate': 0.1, 'max_depth': 5}\n",
      "roc score: 0.954409294663\n",
      "accuracy score:  0.957867017775\n"
     ]
    }
   ],
   "source": [
    "#GBDT\n",
    "gbdt = GradientBoostingClassifier(n_estimators=100, learning_rate=0.1,max_depth=1, random_state=0)\n",
    "param_grid = {'n_estimators': [1, 10, 100, 1000], 'learning_rate': [0.001, 0.01, 0.1, 1, 10], \n",
    "              'max_depth': [0.1, 1, 3, 5, 10]}\n",
    "  \n",
    "\n",
    "scorer = make_scorer(accuracy_score, greater_is_better=True)\n",
    "clf_gbdt = GridSearchCV(gbdt, param_grid, cv = 5, scoring=scorer)\n",
    "clf_gbdt.fit(X_train,y_train)\n",
    "\n",
    "y_best_gbdt = clf_gbdt.predict(X_test)\n",
    "\n",
    "print clf_gbdt.best_params_\n",
    "print 'roc score:', roc_auc_score(y_test, y_best_gbdt)\n",
    "print 'accuracy score: ', accuracy_score(y_test, y_best_gbdt)"
   ]
  },
  {
   "cell_type": "code",
   "execution_count": 131,
   "metadata": {
    "collapsed": false
   },
   "outputs": [
    {
     "name": "stdout",
     "output_type": "stream",
     "text": [
      "{'n_estimators': 500, 'learning_rate': 0.1}\n",
      "roc score: 0.986291050178\n",
      "accuracy score:  0.957867017775\n"
     ]
    }
   ],
   "source": [
    "#Adaboost\n",
    "ada = AdaBoostClassifier(n_estimators=100, learning_rate=0.1)\n",
    "param_grid = {'n_estimators': [1, 10, 50, 500], 'learning_rate': [0.01, 0.1, 1, 10, 100]}\n",
    "  \n",
    "\n",
    "scorer = make_scorer(accuracy_score, greater_is_better=True)\n",
    "clf_ada = GridSearchCV(ada, param_grid, cv = 5, scoring=scorer)\n",
    "clf_ada.fit(X_train,y_train)\n",
    "\n",
    "y_best_ada = clf_gbdt.predict(X_test)\n",
    "ada_prob = np.array([item[1] for item in clf_ada.predict_proba(X_test)])\n",
    "\n",
    "print clf_ada.best_params_\n",
    "print 'roc score:', roc_auc_score(y_test, ada_prob)\n",
    "print 'accuracy score: ', accuracy_score(y_test, y_best_ada)"
   ]
  },
  {
   "cell_type": "markdown",
   "metadata": {},
   "source": [
    "#### 4 "
   ]
  },
  {
   "cell_type": "markdown",
   "metadata": {},
   "source": [
    "Advantage: Random Forest is less likely to overfit to the data than GBDT because it's less susceptible to outliers.\n",
    "\n",
    "Disadvantage: GBDT can have better accuracy with fewer trees as it tries to add new trees that compliment the already built ones"
   ]
  },
  {
   "cell_type": "markdown",
   "metadata": {
    "collapsed": true
   },
   "source": [
    "# Question 3 - Matrix Factorization for Rating Prediction (20pts)\n",
    "\n",
    "The movielens dataset contains 1 million movie ratings from several thousand users. We will be using *k*-rank matrix factorization to estimate this dataset as the product $X=UV^T$, where *U* and *V* have only $k$ columns.\n",
    "\n",
    "1) You can download the movielens 1M dataset from https://datahub.io/dataset/movielens, but for this problem use the data available on Canvas. It has been split into training and test sets, and converted to matrix format where the rows correspond to users and the columns to movies. Note that most of the entries are NaNs, indicating that these ratings are missing. An extra file, lens1m_361M_titles.csv, has been added so you can check out specific movies if you're curious.\n",
    "\n",
    "2) Scikit-learn is a little behind for recommender systems, and doesn't have any method to factorize matrices with missing data. Which means you get to code it! Slide 22 of the 'apa large scale learning' lecture notes has the equations for stochastic gradient descent on *U* and *V*. You will have to:\n",
    "* Set up initial guesses for the *U* and *V* matrices. I suggest small random values.\n",
    "* Find a suitable learning rate for the descent. A learning rate that is too large will probably blow up, like in HW3 problem 1.\n",
    "* Come up with a stopping policy\n",
    "* Code the descent algorithm (5 pts)\n",
    "\n",
    "3) Using your SGD algorithm, apply 2-rank matrix factorization on the filled training matrix. Calculate the RMSE of this model on the training data and on the test data (separately). The optimal score on the training data is around .86 RMSE; your version of gradient descent must go at least below .91 RMSE. (5 pts)\n",
    "\n",
    "4) You should notice some overfitting. Because matrix factorization learns separate scores for each movie, a movie with very few reviews may be easily overfit. You may want to only predict ratings when you have enough information to reach a good conclusion. Recalculate the RMSE on the test data, specifically for movies with at least 50 reviews (don't retrain the models). Also report the percent of movies that are still included (after cutting those with < 50 reviews), and the percent of test ratings that are still included. (5 pts)\n",
    "\n",
    "5) Repeat steps 3 and 4 with 5-rank factorization. Display training and test RMSE. (5 pts)\n",
    "\n",
    "Hints:  \n",
    "The numpy function *nanmean* is helpful for RMSE calculation.  \n",
    "The descent algorithm will probably run for at least several minutes."
   ]
  },
  {
   "cell_type": "code",
   "execution_count": 8,
   "metadata": {
    "collapsed": true
   },
   "outputs": [],
   "source": [
    "import numpy as np\n",
    "import pandas as pd\n",
    "titles = pd.read_csv('lens1m_361M_titles.csv')\n",
    "test_X = np.load('lens1m_361M_test.npy')\n",
    "train_X = np.load('lens1m_361M_train.npy')"
   ]
  },
  {
   "cell_type": "code",
   "execution_count": null,
   "metadata": {
    "collapsed": true
   },
   "outputs": [],
   "source": [
    "class sgdMatrixFact():\n",
    "    \"\"\"Train a matrix factorization model to predict empty \n",
    "        entries in a matrix using stochastic gradient descent. \n",
    "        Params:\n",
    "        K (int): number of latent features\n",
    "        n_epochs (int): max number of epochs the model can run while training\n",
    "        learning_rate (float): learning rate for SGD\"\"\"\n",
    "    def __init__(self, K, n_epochs, learning_rate):\n",
    "        self.K = K\n",
    "        self.learning_rate = learning_rate\n",
    "        self.n_epochs = n_epochs\n",
    "    \n",
    "    def fit(self,X_train):\n",
    "        \"\"\"The Fit function takes in a NxM matrix and returns 2 matrices, U and V, whose dot product\n",
    "            is the approximation of the original matrix. It also returns a dictionary of the training\n",
    "            RMSEs with each epoch\"\"\"\n",
    "        self.X_train = X_train\n",
    "        n, m = X_train.shape\n",
    "        U = np.random.rand(n,self.K)/1000\n",
    "        V = np.random.rand(m,self.K)/1000\n",
    "        V = V.T #transpose V matrix\n",
    "        \n",
    "        train_rmse = {}\n",
    "        for epoch in range(self.n_epochs):\n",
    "            print \"Working on epoch\",epoch\n",
    "            for i in xrange(len(X_train)):\n",
    "                for j in xrange(len(X_train[i])):\n",
    "                    if X_train[i][j]>0:\n",
    "                        L = X_train[i,j] - np.dot(U[i,:],V[:,j])  # Calculate error for gradient\n",
    "                        for k in range(self.K):\n",
    "                            U[i][k] = U[i][k] + self.learning_rate*(2*L*V[k][j]) # Update latent U feature matrix\n",
    "                            V[k][j] = V[k][j] + self.learning_rate*(2*L*U[i][k]) # Update latent V feature matrix\n",
    "        \n",
    "            X_hat = np.dot(U,V)\n",
    "            rmse = np.sqrt(np.nanmean((X_train - X_hat)**2))\n",
    "            train_rmse[epoch]=rmse\n",
    "            try:\n",
    "                if train_rmse[epoch-1]-rmse <= 0.001:\n",
    "                    break #Stopping rule: break loop if rmse between epochs isn't improving\n",
    "            except:\n",
    "                pass\n",
    "        \n",
    "        self.train_rmse = train_rmse\n",
    "        self.U = U\n",
    "        self.V = V\n",
    "        V = V.T #transpose V matrix back to normal\n",
    "        return U,V,train_rmse\n",
    "    \n",
    "    def predict(self,X_test):\n",
    "        \"\"\"The Predict function uses the U and V matrices derived from the training matrix \n",
    "            and uses it to approximate empty entries in a testing matrix of the same shape. \n",
    "            Returns the approximated matrix and the test RMSE.\"\"\"\n",
    "        X_hat = np.dot(U,V.T)\n",
    "        test_rmse = np.sqrt(np.nanmean((X_test - X_hat)**2))\n",
    "        \n",
    "        self.X_hat = X_hat\n",
    "        self.test_rmse = test_rmse\n",
    "        return X_hat,test_rmse      \n",
    "            "
   ]
  },
  {
   "cell_type": "code",
   "execution_count": null,
   "metadata": {
    "collapsed": true
   },
   "outputs": [],
   "source": []
  },
  {
   "cell_type": "code",
   "execution_count": null,
   "metadata": {
    "collapsed": true
   },
   "outputs": [],
   "source": []
  },
  {
   "cell_type": "code",
   "execution_count": null,
   "metadata": {
    "collapsed": true
   },
   "outputs": [],
   "source": []
  },
  {
   "cell_type": "code",
   "execution_count": null,
   "metadata": {
    "collapsed": true
   },
   "outputs": [],
   "source": []
  },
  {
   "cell_type": "code",
   "execution_count": null,
   "metadata": {
    "collapsed": true
   },
   "outputs": [],
   "source": []
  }
 ],
 "metadata": {
  "anaconda-cloud": {},
  "kernelspec": {
   "display_name": "Python [Root]",
   "language": "python",
   "name": "Python [Root]"
  },
  "language_info": {
   "codemirror_mode": {
    "name": "ipython",
    "version": 2
   },
   "file_extension": ".py",
   "mimetype": "text/x-python",
   "name": "python",
   "nbconvert_exporter": "python",
   "pygments_lexer": "ipython2",
   "version": "2.7.11"
  }
 },
 "nbformat": 4,
 "nbformat_minor": 0
}
